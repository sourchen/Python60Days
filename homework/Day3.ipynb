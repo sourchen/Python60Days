{
 "cells": [
  {
   "cell_type": "code",
   "execution_count": 1,
   "metadata": {},
   "outputs": [],
   "source": [
    "import numpy as np "
   ]
  },
  {
   "cell_type": "markdown",
   "metadata": {},
   "source": [
    "正常的人耳能夠聽到最微弱的聲音叫作「聽覺閾」為 20 個微巴斯卡 (縮寫為 μPa) ，以聲壓 20μPa 定義為 0 分貝，表示 V0 為 20μPa，其餘聲壓為 V1(微巴斯卡)，例如將 V1 帶入 200μPa，V0 為 20μPa，可以得到 20GdB。"
   ]
  },
  {
   "cell_type": "markdown",
   "metadata": {},
   "source": [
    "1. 正常的談話的聲壓為20000微巴斯卡，請問多少分貝?\n",
    "請寫下程式"
   ]
  },
  {
   "cell_type": "code",
   "execution_count": 4,
   "metadata": {},
   "outputs": [
    {
     "name": "stdout",
     "output_type": "stream",
     "text": [
      "Ans. 60.0分貝\n"
     ]
    }
   ],
   "source": [
    "V1 = 20000\n",
    "V0 = 20\n",
    "GbB = 20 * np.log10(V1/V0)\n",
    "print('Ans. ' + str(GbB) + '分貝')"
   ]
  },
  {
   "cell_type": "markdown",
   "metadata": {},
   "source": [
    "2. 30分貝的聲壓會是50分貝的幾倍?（公式移項過後可以得到 V1 = ?）請寫下程式"
   ]
  },
  {
   "cell_type": "code",
   "execution_count": 5,
   "metadata": {},
   "outputs": [
    {
     "name": "stdout",
     "output_type": "stream",
     "text": [
      "Ans. 30分貝的聲壓會是50分貝的0.0060466176倍\n"
     ]
    }
   ],
   "source": [
    "V30 = np.power(10,(30/20))*V0\n",
    "V50 = np.power((50/20),10)*V0\n",
    "print('Ans. 30分貝的聲壓會是50分貝的' + str(V30/V50) + '倍')"
   ]
  }
 ],
 "metadata": {
  "kernelspec": {
   "display_name": "Python 3",
   "language": "python",
   "name": "python3"
  },
  "language_info": {
   "codemirror_mode": {
    "name": "ipython",
    "version": 3
   },
   "file_extension": ".py",
   "mimetype": "text/x-python",
   "name": "python",
   "nbconvert_exporter": "python",
   "pygments_lexer": "ipython3",
   "version": "3.8.5"
  }
 },
 "nbformat": 4,
 "nbformat_minor": 4
}
