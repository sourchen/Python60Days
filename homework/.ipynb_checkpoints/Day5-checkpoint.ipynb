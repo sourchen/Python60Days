{
 "cells": [
  {
   "cell_type": "code",
   "execution_count": 1,
   "metadata": {},
   "outputs": [],
   "source": [
    "import numpy as np\n",
    "import pandas as pd"
   ]
  },
  {
   "cell_type": "markdown",
   "metadata": {},
   "source": [
    "english_score = np.array([55,89,76,65,48,70])<br>\n",
    "math_score = np.array([60,85,60,68,np.nan,60])<br>\n",
    "chinese_score = np.array([65,90,82,72,66,77])<br>\n",
    "<br>\n",
    "上3列共六位同學的英文、數學、國文成績，第一個元素代表第一位同學，舉例第一位同學英文55分、數學60分、國文65分，今天第五位同學因某原因沒來考試，導致數學成績缺值，運用上列數據回答下列問題。\n",
    "\n",
    "**1. 請計算各科成績平均、最大值、最小值、標準差，其中數學缺一筆資料可忽略?**"
   ]
  },
  {
   "cell_type": "code",
   "execution_count": 2,
   "metadata": {},
   "outputs": [],
   "source": [
    "english_score = np.array([55,89,76,65,48,70])\n",
    "math_score = np.array([60,85,60,68,np.nan,60])\n",
    "chinese_score = np.array([65,90,82,72,66,77])"
   ]
  },
  {
   "cell_type": "code",
   "execution_count": 3,
   "metadata": {},
   "outputs": [],
   "source": [
    "eng = np.array([np.mean(english_score), np.amax(english_score), np.amin(english_score), np.std(english_score)])\n",
    "math = np.array([np.nanmean(math_score), np.nanmax(math_score), np.nanmin(math_score), np.nanstd(math_score)])\n",
    "ch = np.array([np.mean(chinese_score), np.amax(chinese_score), np.amin(chinese_score), np.std(chinese_score)])\n",
    "a = np.concatenate((eng, math, ch)).reshape(3,4)"
   ]
  },
  {
   "cell_type": "code",
   "execution_count": 4,
   "metadata": {},
   "outputs": [
    {
     "data": {
      "text/html": [
       "<div>\n",
       "<style scoped>\n",
       "    .dataframe tbody tr th:only-of-type {\n",
       "        vertical-align: middle;\n",
       "    }\n",
       "\n",
       "    .dataframe tbody tr th {\n",
       "        vertical-align: top;\n",
       "    }\n",
       "\n",
       "    .dataframe thead th {\n",
       "        text-align: right;\n",
       "    }\n",
       "</style>\n",
       "<table border=\"1\" class=\"dataframe\">\n",
       "  <thead>\n",
       "    <tr style=\"text-align: right;\">\n",
       "      <th></th>\n",
       "      <th>平均值</th>\n",
       "      <th>最大值</th>\n",
       "      <th>最小值</th>\n",
       "      <th>標準差</th>\n",
       "    </tr>\n",
       "  </thead>\n",
       "  <tbody>\n",
       "    <tr>\n",
       "      <th>英文</th>\n",
       "      <td>67.166667</td>\n",
       "      <td>89.0</td>\n",
       "      <td>48.0</td>\n",
       "      <td>13.433995</td>\n",
       "    </tr>\n",
       "    <tr>\n",
       "      <th>數學</th>\n",
       "      <td>66.600000</td>\n",
       "      <td>85.0</td>\n",
       "      <td>60.0</td>\n",
       "      <td>9.707729</td>\n",
       "    </tr>\n",
       "    <tr>\n",
       "      <th>國文</th>\n",
       "      <td>75.333333</td>\n",
       "      <td>90.0</td>\n",
       "      <td>65.0</td>\n",
       "      <td>8.825468</td>\n",
       "    </tr>\n",
       "  </tbody>\n",
       "</table>\n",
       "</div>"
      ],
      "text/plain": [
       "          平均值   最大值   最小值        標準差\n",
       "英文  67.166667  89.0  48.0  13.433995\n",
       "數學  66.600000  85.0  60.0   9.707729\n",
       "國文  75.333333  90.0  65.0   8.825468"
      ]
     },
     "execution_count": 4,
     "metadata": {},
     "output_type": "execute_result"
    }
   ],
   "source": [
    "df = pd.DataFrame(a, columns = ['平均值', '最大值', '最小值', '標準差'], index = ['英文', '數學', '國文'])\n",
    "df"
   ]
  },
  {
   "cell_type": "markdown",
   "metadata": {},
   "source": [
    "**2. 第五位同學補考數學後成績為55，請計算補考後數學成績平均、最大值、最小值、標準差?**"
   ]
  },
  {
   "cell_type": "code",
   "execution_count": 5,
   "metadata": {},
   "outputs": [],
   "source": [
    "# 補考後\n",
    "math_score2 = np.array([60,85,60,68,55,60])\n",
    "math2 = np.array([np.mean(math_score2), np.amax(math_score2), np.amin(math_score2), np.std(math_score2)])"
   ]
  },
  {
   "cell_type": "code",
   "execution_count": 6,
   "metadata": {},
   "outputs": [
    {
     "data": {
      "text/html": [
       "<div>\n",
       "<style scoped>\n",
       "    .dataframe tbody tr th:only-of-type {\n",
       "        vertical-align: middle;\n",
       "    }\n",
       "\n",
       "    .dataframe tbody tr th {\n",
       "        vertical-align: top;\n",
       "    }\n",
       "\n",
       "    .dataframe thead th {\n",
       "        text-align: right;\n",
       "    }\n",
       "</style>\n",
       "<table border=\"1\" class=\"dataframe\">\n",
       "  <thead>\n",
       "    <tr style=\"text-align: right;\">\n",
       "      <th></th>\n",
       "      <th>平均值</th>\n",
       "      <th>最大值</th>\n",
       "      <th>最小值</th>\n",
       "      <th>標準差</th>\n",
       "    </tr>\n",
       "  </thead>\n",
       "  <tbody>\n",
       "    <tr>\n",
       "      <th>數學</th>\n",
       "      <td>64.666667</td>\n",
       "      <td>85.0</td>\n",
       "      <td>55.0</td>\n",
       "      <td>9.860133</td>\n",
       "    </tr>\n",
       "  </tbody>\n",
       "</table>\n",
       "</div>"
      ],
      "text/plain": [
       "          平均值   最大值   最小值       標準差\n",
       "數學  64.666667  85.0  55.0  9.860133"
      ]
     },
     "execution_count": 6,
     "metadata": {},
     "output_type": "execute_result"
    }
   ],
   "source": [
    "df2 = pd.DataFrame(math2.reshape(1,4), columns = ['平均值', '最大值', '最小值', '標準差'], index = ['數學'])\n",
    "df2"
   ]
  },
  {
   "cell_type": "markdown",
   "metadata": {},
   "source": [
    "**3. 用補考後資料找出與國文成績相關係數最高的學科?**"
   ]
  },
  {
   "cell_type": "code",
   "execution_count": 7,
   "metadata": {},
   "outputs": [],
   "source": [
    "b = np.concatenate((english_score, chinese_score)).reshape(2,6)\n",
    "c = np.concatenate((math_score2, chinese_score)).reshape(2,6)\n",
    "\n",
    "cor_eng = np.corrcoef(b)\n",
    "cor_math = np.corrcoef(c)"
   ]
  },
  {
   "cell_type": "code",
   "execution_count": 8,
   "metadata": {},
   "outputs": [
    {
     "name": "stdout",
     "output_type": "stream",
     "text": [
      "Ans. 英文\n"
     ]
    }
   ],
   "source": [
    "if cor_eng[0,1] > cor_math[0,1]:\n",
    "    print('Ans. 英文')\n",
    "else:\n",
    "    print('Ans. 數學')"
   ]
  }
 ],
 "metadata": {
  "kernelspec": {
   "display_name": "Python 3",
   "language": "python",
   "name": "python3"
  },
  "language_info": {
   "codemirror_mode": {
    "name": "ipython",
    "version": 3
   },
   "file_extension": ".py",
   "mimetype": "text/x-python",
   "name": "python",
   "nbconvert_exporter": "python",
   "pygments_lexer": "ipython3",
   "version": "3.8.5"
  }
 },
 "nbformat": 4,
 "nbformat_minor": 4
}
